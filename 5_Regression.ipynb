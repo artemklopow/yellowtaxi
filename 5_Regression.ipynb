{
 "cells": [
  {
   "cell_type": "markdown",
   "metadata": {},
   "source": [
    "# Часть 5. Прогнозирование с помощью регрессии."
   ]
  },
  {
   "cell_type": "markdown",
   "metadata": {},
   "source": [
    "## 5.1. Чтение данных."
   ]
  },
  {
   "cell_type": "code",
   "execution_count": 1,
   "metadata": {},
   "outputs": [],
   "source": [
    "import numpy as np\n",
    "import pandas as pd\n",
    "import datetime\n",
    "import os\n",
    "import multiprocessing\n",
    "import warnings\n",
    "\n",
    "from joblib import dump, load\n",
    "from matplotlib import pyplot as plt"
   ]
  },
  {
   "cell_type": "code",
   "execution_count": 2,
   "metadata": {},
   "outputs": [
    {
     "data": {
      "text/html": [
       "<div>\n",
       "<style scoped>\n",
       "    .dataframe tbody tr th:only-of-type {\n",
       "        vertical-align: middle;\n",
       "    }\n",
       "\n",
       "    .dataframe tbody tr th {\n",
       "        vertical-align: top;\n",
       "    }\n",
       "\n",
       "    .dataframe thead th {\n",
       "        text-align: right;\n",
       "    }\n",
       "</style>\n",
       "<table border=\"1\" class=\"dataframe\">\n",
       "  <thead>\n",
       "    <tr style=\"text-align: right;\">\n",
       "      <th></th>\n",
       "      <th>region</th>\n",
       "      <th>west</th>\n",
       "      <th>east</th>\n",
       "      <th>south</th>\n",
       "      <th>north</th>\n",
       "      <th>2014-05-01 00:00:00</th>\n",
       "      <th>2014-05-01 01:00:00</th>\n",
       "      <th>2014-05-01 02:00:00</th>\n",
       "      <th>2014-05-01 03:00:00</th>\n",
       "      <th>2014-05-01 04:00:00</th>\n",
       "      <th>...</th>\n",
       "      <th>2016-06-30 14:00:00</th>\n",
       "      <th>2016-06-30 15:00:00</th>\n",
       "      <th>2016-06-30 16:00:00</th>\n",
       "      <th>2016-06-30 17:00:00</th>\n",
       "      <th>2016-06-30 18:00:00</th>\n",
       "      <th>2016-06-30 19:00:00</th>\n",
       "      <th>2016-06-30 20:00:00</th>\n",
       "      <th>2016-06-30 21:00:00</th>\n",
       "      <th>2016-06-30 22:00:00</th>\n",
       "      <th>2016-06-30 23:00:00</th>\n",
       "    </tr>\n",
       "  </thead>\n",
       "  <tbody>\n",
       "    <tr>\n",
       "      <th>0</th>\n",
       "      <td>1075</td>\n",
       "      <td>-74.022246</td>\n",
       "      <td>-74.011135</td>\n",
       "      <td>40.697437</td>\n",
       "      <td>40.705825</td>\n",
       "      <td>36.0</td>\n",
       "      <td>19.0</td>\n",
       "      <td>9.0</td>\n",
       "      <td>2.0</td>\n",
       "      <td>7.0</td>\n",
       "      <td>...</td>\n",
       "      <td>109.0</td>\n",
       "      <td>86.0</td>\n",
       "      <td>81.0</td>\n",
       "      <td>82.0</td>\n",
       "      <td>88.0</td>\n",
       "      <td>116.0</td>\n",
       "      <td>104.0</td>\n",
       "      <td>151.0</td>\n",
       "      <td>106.0</td>\n",
       "      <td>85.0</td>\n",
       "    </tr>\n",
       "    <tr>\n",
       "      <th>1</th>\n",
       "      <td>1076</td>\n",
       "      <td>-74.022246</td>\n",
       "      <td>-74.011135</td>\n",
       "      <td>40.705825</td>\n",
       "      <td>40.714213</td>\n",
       "      <td>52.0</td>\n",
       "      <td>34.0</td>\n",
       "      <td>16.0</td>\n",
       "      <td>7.0</td>\n",
       "      <td>9.0</td>\n",
       "      <td>...</td>\n",
       "      <td>236.0</td>\n",
       "      <td>199.0</td>\n",
       "      <td>152.0</td>\n",
       "      <td>139.0</td>\n",
       "      <td>173.0</td>\n",
       "      <td>190.0</td>\n",
       "      <td>142.0</td>\n",
       "      <td>162.0</td>\n",
       "      <td>168.0</td>\n",
       "      <td>130.0</td>\n",
       "    </tr>\n",
       "    <tr>\n",
       "      <th>2</th>\n",
       "      <td>1077</td>\n",
       "      <td>-74.022246</td>\n",
       "      <td>-74.011135</td>\n",
       "      <td>40.714213</td>\n",
       "      <td>40.722601</td>\n",
       "      <td>41.0</td>\n",
       "      <td>25.0</td>\n",
       "      <td>13.0</td>\n",
       "      <td>2.0</td>\n",
       "      <td>4.0</td>\n",
       "      <td>...</td>\n",
       "      <td>103.0</td>\n",
       "      <td>68.0</td>\n",
       "      <td>85.0</td>\n",
       "      <td>100.0</td>\n",
       "      <td>117.0</td>\n",
       "      <td>135.0</td>\n",
       "      <td>149.0</td>\n",
       "      <td>145.0</td>\n",
       "      <td>103.0</td>\n",
       "      <td>86.0</td>\n",
       "    </tr>\n",
       "    <tr>\n",
       "      <th>3</th>\n",
       "      <td>1125</td>\n",
       "      <td>-74.011135</td>\n",
       "      <td>-74.000023</td>\n",
       "      <td>40.697437</td>\n",
       "      <td>40.705825</td>\n",
       "      <td>56.0</td>\n",
       "      <td>27.0</td>\n",
       "      <td>17.0</td>\n",
       "      <td>4.0</td>\n",
       "      <td>11.0</td>\n",
       "      <td>...</td>\n",
       "      <td>107.0</td>\n",
       "      <td>78.0</td>\n",
       "      <td>86.0</td>\n",
       "      <td>80.0</td>\n",
       "      <td>75.0</td>\n",
       "      <td>132.0</td>\n",
       "      <td>141.0</td>\n",
       "      <td>135.0</td>\n",
       "      <td>125.0</td>\n",
       "      <td>113.0</td>\n",
       "    </tr>\n",
       "    <tr>\n",
       "      <th>4</th>\n",
       "      <td>1126</td>\n",
       "      <td>-74.011135</td>\n",
       "      <td>-74.000023</td>\n",
       "      <td>40.705825</td>\n",
       "      <td>40.714213</td>\n",
       "      <td>174.0</td>\n",
       "      <td>83.0</td>\n",
       "      <td>56.0</td>\n",
       "      <td>36.0</td>\n",
       "      <td>37.0</td>\n",
       "      <td>...</td>\n",
       "      <td>212.0</td>\n",
       "      <td>213.0</td>\n",
       "      <td>179.0</td>\n",
       "      <td>255.0</td>\n",
       "      <td>309.0</td>\n",
       "      <td>395.0</td>\n",
       "      <td>333.0</td>\n",
       "      <td>359.0</td>\n",
       "      <td>317.0</td>\n",
       "      <td>256.0</td>\n",
       "    </tr>\n",
       "  </tbody>\n",
       "</table>\n",
       "<p>5 rows × 19013 columns</p>\n",
       "</div>"
      ],
      "text/plain": [
       "   region       west       east      south      north  2014-05-01 00:00:00  \\\n",
       "0    1075 -74.022246 -74.011135  40.697437  40.705825                 36.0   \n",
       "1    1076 -74.022246 -74.011135  40.705825  40.714213                 52.0   \n",
       "2    1077 -74.022246 -74.011135  40.714213  40.722601                 41.0   \n",
       "3    1125 -74.011135 -74.000023  40.697437  40.705825                 56.0   \n",
       "4    1126 -74.011135 -74.000023  40.705825  40.714213                174.0   \n",
       "\n",
       "   2014-05-01 01:00:00  2014-05-01 02:00:00  2014-05-01 03:00:00  \\\n",
       "0                 19.0                  9.0                  2.0   \n",
       "1                 34.0                 16.0                  7.0   \n",
       "2                 25.0                 13.0                  2.0   \n",
       "3                 27.0                 17.0                  4.0   \n",
       "4                 83.0                 56.0                 36.0   \n",
       "\n",
       "   2014-05-01 04:00:00  ...  2016-06-30 14:00:00  2016-06-30 15:00:00  \\\n",
       "0                  7.0  ...                109.0                 86.0   \n",
       "1                  9.0  ...                236.0                199.0   \n",
       "2                  4.0  ...                103.0                 68.0   \n",
       "3                 11.0  ...                107.0                 78.0   \n",
       "4                 37.0  ...                212.0                213.0   \n",
       "\n",
       "   2016-06-30 16:00:00  2016-06-30 17:00:00  2016-06-30 18:00:00  \\\n",
       "0                 81.0                 82.0                 88.0   \n",
       "1                152.0                139.0                173.0   \n",
       "2                 85.0                100.0                117.0   \n",
       "3                 86.0                 80.0                 75.0   \n",
       "4                179.0                255.0                309.0   \n",
       "\n",
       "   2016-06-30 19:00:00  2016-06-30 20:00:00  2016-06-30 21:00:00  \\\n",
       "0                116.0                104.0                151.0   \n",
       "1                190.0                142.0                162.0   \n",
       "2                135.0                149.0                145.0   \n",
       "3                132.0                141.0                135.0   \n",
       "4                395.0                333.0                359.0   \n",
       "\n",
       "   2016-06-30 22:00:00  2016-06-30 23:00:00  \n",
       "0                106.0                 85.0  \n",
       "1                168.0                130.0  \n",
       "2                103.0                 86.0  \n",
       "3                125.0                113.0  \n",
       "4                317.0                256.0  \n",
       "\n",
       "[5 rows x 19013 columns]"
      ]
     },
     "execution_count": 2,
     "metadata": {},
     "output_type": "execute_result"
    }
   ],
   "source": [
    "data = pd.read_csv('all_count.csv', sep=',', header=0, parse_dates=True,\n",
    "               date_parser=lambda x: datetime.datetime.strptime(x, '%Y-%m-%d %H:%M:%S'))\n",
    "dates = [datetime.datetime.strptime(i, '%Y-%m-%d %H:%M:%S') for i in data.columns[5:]]\n",
    "data.columns = list(data.columns[:5]) + [datetime.datetime.strptime(i, '%Y-%m-%d %H:%M:%S') for i in data.columns[5:]]\n",
    "data.head()"
   ]
  },
  {
   "cell_type": "markdown",
   "metadata": {},
   "source": [
    "## 5.2. Формирование признаков. "
   ]
  },
  {
   "cell_type": "markdown",
   "metadata": {},
   "source": [
    "<dl>\n",
    "<dd>Сформируем следующие признаки:</dd>\n",
    "<dd>&nbsp; &nbsp; &nbsp; &nbsp; идентификатор кластера - категориальный признак;</dd>\n",
    "<dd>&nbsp; &nbsp; &nbsp; &nbsp; Год - вещественный, месяц, день недели, час - категориальные;</dd>\n",
    "<dd>&nbsp; &nbsp; &nbsp; &nbsp; синусы и косинусы по периодами годовой и недельной сезонности;</dd>\n",
    "<dd>&nbsp; &nbsp; &nbsp; &nbsp; количество поездок из рассматриваемого района в моменты времени $y_T, y_{T-1}...y_{T-K}$;</dd>\n",
    "<dd>&nbsp; &nbsp; &nbsp; &nbsp; количество поездок из рассматриваемого района в моменты времени $y_{T-24}, y_{T-48}...y_{T-24*K_d}$;</dd>    \n",
    "<dd>&nbsp; &nbsp; &nbsp; &nbsp; суммарное количество поездок из рассматриваемого района за предшествующие полдня, сутки, неделю, месяц.</dd>    \n",
    "</dl>"
   ]
  },
  {
   "cell_type": "markdown",
   "metadata": {},
   "source": [
    "### 5.2.1. Идентификатор кластера."
   ]
  },
  {
   "cell_type": "code",
   "execution_count": 12,
   "metadata": {},
   "outputs": [],
   "source": [
    "from sklearn.preprocessing import OneHotEncoder"
   ]
  },
  {
   "cell_type": "code",
   "execution_count": 13,
   "metadata": {},
   "outputs": [
    {
     "data": {
      "text/html": [
       "<div>\n",
       "<style scoped>\n",
       "    .dataframe tbody tr th:only-of-type {\n",
       "        vertical-align: middle;\n",
       "    }\n",
       "\n",
       "    .dataframe tbody tr th {\n",
       "        vertical-align: top;\n",
       "    }\n",
       "\n",
       "    .dataframe thead th {\n",
       "        text-align: right;\n",
       "    }\n",
       "</style>\n",
       "<table border=\"1\" class=\"dataframe\">\n",
       "  <thead>\n",
       "    <tr style=\"text-align: right;\">\n",
       "      <th></th>\n",
       "      <th>region</th>\n",
       "      <th>west</th>\n",
       "      <th>east</th>\n",
       "      <th>south</th>\n",
       "      <th>north</th>\n",
       "      <th>cluster</th>\n",
       "    </tr>\n",
       "  </thead>\n",
       "  <tbody>\n",
       "    <tr>\n",
       "      <th>0</th>\n",
       "      <td>1075</td>\n",
       "      <td>-74.022246</td>\n",
       "      <td>-74.011135</td>\n",
       "      <td>40.697437</td>\n",
       "      <td>40.705825</td>\n",
       "      <td>1</td>\n",
       "    </tr>\n",
       "    <tr>\n",
       "      <th>1</th>\n",
       "      <td>1076</td>\n",
       "      <td>-74.022246</td>\n",
       "      <td>-74.011135</td>\n",
       "      <td>40.705825</td>\n",
       "      <td>40.714213</td>\n",
       "      <td>0</td>\n",
       "    </tr>\n",
       "    <tr>\n",
       "      <th>2</th>\n",
       "      <td>1077</td>\n",
       "      <td>-74.022246</td>\n",
       "      <td>-74.011135</td>\n",
       "      <td>40.714213</td>\n",
       "      <td>40.722601</td>\n",
       "      <td>0</td>\n",
       "    </tr>\n",
       "    <tr>\n",
       "      <th>3</th>\n",
       "      <td>1125</td>\n",
       "      <td>-74.011135</td>\n",
       "      <td>-74.000023</td>\n",
       "      <td>40.697437</td>\n",
       "      <td>40.705825</td>\n",
       "      <td>1</td>\n",
       "    </tr>\n",
       "    <tr>\n",
       "      <th>4</th>\n",
       "      <td>1126</td>\n",
       "      <td>-74.011135</td>\n",
       "      <td>-74.000023</td>\n",
       "      <td>40.705825</td>\n",
       "      <td>40.714213</td>\n",
       "      <td>1</td>\n",
       "    </tr>\n",
       "  </tbody>\n",
       "</table>\n",
       "</div>"
      ],
      "text/plain": [
       "   region       west       east      south      north  cluster\n",
       "0    1075 -74.022246 -74.011135  40.697437  40.705825        1\n",
       "1    1076 -74.022246 -74.011135  40.705825  40.714213        0\n",
       "2    1077 -74.022246 -74.011135  40.714213  40.722601        0\n",
       "3    1125 -74.011135 -74.000023  40.697437  40.705825        1\n",
       "4    1126 -74.011135 -74.000023  40.705825  40.714213        1"
      ]
     },
     "execution_count": 13,
     "metadata": {},
     "output_type": "execute_result"
    }
   ],
   "source": [
    "reg_info = pd.read_csv('reg_info.csv', sep=',', header=0)\n",
    "reg_info.head()"
   ]
  },
  {
   "cell_type": "code",
   "execution_count": 14,
   "metadata": {},
   "outputs": [],
   "source": [
    "def get_cluster_features(cell_data, region_number):\n",
    "    cluster = reg_info[reg_info.region==region_number].cluster.values[0]\n",
    "    vals = np.array([cluster for _ in range(cell_data.shape[0])] + [i for i in range(5)])\n",
    "    vals = OneHotEncoder(sparse=False).fit_transform(vals.reshape(-1, 1))[:-5, :]\n",
    "    cluster_names = ['cluster_{}'.format(i) for i in range(5)]\n",
    "    for i in range(len(cluster_names)):\n",
    "        cell_data[cluster_names[i]] = vals[:, i]\n",
    "    return cluster_names    "
   ]
  },
  {
   "cell_type": "markdown",
   "metadata": {},
   "source": [
    "### 5.2.2. Месяц, день недели, час."
   ]
  },
  {
   "cell_type": "code",
   "execution_count": 15,
   "metadata": {},
   "outputs": [],
   "source": [
    "def get_date_features(cell_data):\n",
    "    \n",
    "    # Год.\n",
    "    cell_data['year'] = np.array([i.year for i in cell_data.index])\n",
    "    dates_names = ['year']\n",
    "    \n",
    "    # Месяц.\n",
    "    months_names = ['january', 'february', 'march', 'april', 'may', 'june', \n",
    "                'jule', 'august', 'september', 'october', 'november', 'december']\n",
    "    months = np.array([i.month for i in cell_data.index] + list(range(1, 13)))\n",
    "    res = OneHotEncoder(sparse=False).fit_transform(months.reshape((-1,1)))[:-12, :]\n",
    "    for i in range(len(months_names)):\n",
    "        cell_data[months_names[i]] = res[:, i]\n",
    "    dates_names += months_names\n",
    "    \n",
    "    # День недели.\n",
    "    weekdays = ['monday', 'tuesday', 'wednesday', 'thursday', 'friday', 'saturday', 'sunday']\n",
    "    days = cell_data.index\n",
    "    days = np.array([i.weekday() + 1 for i in days] + list(range(1, 8)))\n",
    "    res = OneHotEncoder(sparse=False).fit_transform(days.reshape((-1,1)))[:-7, :]\n",
    "    for i in range(len(weekdays)):\n",
    "        cell_data[weekdays[i]] = res[:, i]\n",
    "    dates_names += weekdays\n",
    "    \n",
    "    # Час.\n",
    "    hour_names = ['{}h'.format(i) for i in range(24)]\n",
    "    hours = cell_data.index\n",
    "    hours = np.array([i.hour for i in hours] + list(range(24)))\n",
    "    res = OneHotEncoder(sparse=False).fit_transform(hours.reshape((-1,1)))[:-24, :]\n",
    "    for i in range(len(hour_names)):\n",
    "        cell_data[hour_names[i]] = res[:, i]\n",
    "    dates_names += hour_names\n",
    "    \n",
    "    return dates_names"
   ]
  },
  {
   "cell_type": "markdown",
   "metadata": {},
   "source": [
    "### 5.2.3. Количество поездок из рассматриваемого района в моменты времени $y_T, y_{T-1}...y_{T-K}$"
   ]
  },
  {
   "cell_type": "code",
   "execution_count": 22,
   "metadata": {},
   "outputs": [],
   "source": [
    "def get_hour_lags(cell_data, k_hour):\n",
    "    column_names = ['hour_lag_{}'.format(i) for i in range(k_hour+1)]\n",
    "    for i in range(k_hour+1):\n",
    "        cell_data[column_names[i]] = cell_data['trips'].shift(i)\n",
    "    return column_names"
   ]
  },
  {
   "cell_type": "markdown",
   "metadata": {},
   "source": [
    "### 5.2.4. Количество поездок из рассматриваемого района в моменты времени $y_{T-24}, y_{T-48}...y_{T-24*K_d}$"
   ]
  },
  {
   "cell_type": "code",
   "execution_count": 23,
   "metadata": {},
   "outputs": [],
   "source": [
    "def get_day_lags(cell_data, k_day):\n",
    "    column_names = ['day_lag_{}'.format(i) for i in range(1, k_day+1)]\n",
    "    for i in range(1, k_day+1):\n",
    "        cell_data[column_names[i-1]] = cell_data['trips'].shift(24 * i)\n",
    "    return column_names"
   ]
  },
  {
   "cell_type": "markdown",
   "metadata": {},
   "source": [
    "### 5.2.5. Cуммарное количество поездок из рассматриваемого района за предшествующие полдня, сутки, неделю, месяц."
   ]
  },
  {
   "cell_type": "code",
   "execution_count": 24,
   "metadata": {},
   "outputs": [],
   "source": [
    "def get_past_sums(cell_data):\n",
    "    cell_data['half_day_sum'] = cell_data.trips.rolling(12).sum()\n",
    "    cell_data['half_day_sum'] = cell_data['half_day_sum'].shift(1)\n",
    "    cell_data['full_day_sum'] =cell_data.trips.rolling(24).sum()\n",
    "    cell_data['full_day_sum'] = cell_data['full_day_sum'].shift(1)\n",
    "    cell_data['week_sum'] = cell_data.trips.rolling(168).sum()\n",
    "    cell_data['week_sum'] = cell_data['week_sum'].shift(1)\n",
    "    cell_data['month_sum'] = cell_data.trips.rolling(30*24).sum()\n",
    "    cell_data['month_sum'] = cell_data['month_sum'].shift(1)\n",
    "    return ['half_day_sum', 'full_day_sum', 'week_sum', 'month_sum']"
   ]
  },
  {
   "cell_type": "markdown",
   "metadata": {},
   "source": [
    "## 5.3. Формирование выборок."
   ]
  },
  {
   "cell_type": "markdown",
   "metadata": {},
   "source": [
    "Сформируем выборки на 1-6 часов вперед, поделим их на данные до апреля включительно, данные на май, на июнь. На данных за май будем подбирать гиперпараметры."
   ]
  },
  {
   "cell_type": "code",
   "execution_count": 191,
   "metadata": {},
   "outputs": [
    {
     "name": "stdout",
     "output_type": "stream",
     "text": [
      "(1864764, 98)\n"
     ]
    },
    {
     "data": {
      "text/plain": [
       "['dumps/features.joblib']"
      ]
     },
     "execution_count": 191,
     "metadata": {},
     "output_type": "execute_result"
    }
   ],
   "source": [
    "# Формируем общую выборку.\n",
    "warnings.filterwarnings('ignore')\n",
    "raw_sample = None\n",
    "for region in reg_info.region:\n",
    "    \n",
    "    cell_data = data[data.region==region].iloc[:, 5:].transpose()\n",
    "    cell_data.columns = ['trips']\n",
    "    \n",
    "    cell_data = data[data.region==region].iloc[:, 5:].transpose()\n",
    "    cell_data.columns = ['trips']\n",
    "    feature_names = get_cluster_features(cell_data, region)\n",
    "    feature_names += get_date_features(cell_data)\n",
    "    \n",
    "    feature_names += get_hour_lags(cell_data, 23)\n",
    "    feature_names += get_day_lags(cell_data, 6)\n",
    "    feature_names += get_past_sums(cell_data)\n",
    "    for i in range(1, 7):\n",
    "        cell_data['label_{}'.format(i)] = cell_data.trips.shift(-i)\n",
    "    cell_data.dropna(inplace=True)\n",
    "    \n",
    "    cell_data['region'] = region\n",
    "    \n",
    "    if raw_sample is None:\n",
    "        raw_sample = cell_data.copy(deep=True)\n",
    "    else:\n",
    "        raw_sample = pd.concat((raw_sample, cell_data))\n",
    "    \n",
    "    \n",
    "    \n",
    "raw_sample.sort_index(inplace=True)   \n",
    "for i in range(1, 7):\n",
    "    vals = []\n",
    "    for dt, row in raw_sample.iterrows():\n",
    "        val = '{}_{}_{}_{}'.format(int(row.region), dt.strftime('%Y-%m-%d'), dt.hour, i)\n",
    "        vals.append(val)\n",
    "    raw_sample['kaggle_id_{}'.format(i)] = np.array(vals)\n",
    "\n",
    "print(raw_sample.shape)\n",
    "raw_sample.to_csv('samples/raw_sample.csv', sep=',', header=True, index=True)\n",
    "dump(feature_names, 'dumps/features.joblib')"
   ]
  },
  {
   "cell_type": "code",
   "execution_count": 202,
   "metadata": {},
   "outputs": [],
   "source": [
    "# Поделим выборку апрель(и до него), май и июнь.\n",
    "raw_apr_sample = raw_sample[raw_sample.index <= datetime.datetime(2016,4,30,17)]\n",
    "raw_may_sample = raw_sample[(raw_sample.index >= datetime.datetime(2016,4,30,23)) & \n",
    "                            (raw_sample.index <= datetime.datetime(2016,5,31,17))]\n",
    "raw_june_sample = raw_sample[raw_sample.index >= datetime.datetime(2016,5,31,23)]"
   ]
  },
  {
   "cell_type": "code",
   "execution_count": 203,
   "metadata": {},
   "outputs": [],
   "source": [
    "# Получим окончательные выборки.\n",
    "train_data = np.array(raw_apr_sample[feature_names])\n",
    "np.save('samples/train_data', train_data)\n",
    "test_data = np.array(raw_may_sample[feature_names])\n",
    "np.save('samples/test_data', test_data)\n",
    "target_data = np.array(raw_june_sample[feature_names])\n",
    "np.save('samples/target_data', target_data)\n",
    "for i in range(1, 7):\n",
    "    train_labels = np.array(raw_apr_sample['label_{}'.format(i)])\n",
    "    np.save('samples/train_labels_{}'.format(i), train_labels)\n",
    "    test_labels = np.array(raw_may_sample['label_{}'.format(i)])\n",
    "    np.save('samples/test_labels_{}'.format(i), test_labels)\n",
    "    target_labels = np.array(raw_june_sample['label_{}'.format(i)])\n",
    "    np.save('samples/target_labels_{}'.format(i), target_labels)\n",
    "    target_index = list(raw_june_sample['kaggle_id_{}'.format(i)])\n",
    "    dump(target_index, 'dumps/target_index_{}'.format(i))"
   ]
  },
  {
   "cell_type": "markdown",
   "metadata": {},
   "source": [
    "## 5.4. Подбор гиперпараметров моделей."
   ]
  },
  {
   "cell_type": "markdown",
   "metadata": {},
   "source": [
    "Подбирать гиперпараметры будем по среднему абсолютному отклонению от данных в мае. Рассмотрим ridge, lasso, xgboost, нейросеть."
   ]
  },
  {
   "cell_type": "markdown",
   "metadata": {},
   "source": [
    "Подготовим данные."
   ]
  },
  {
   "cell_type": "code",
   "execution_count": 225,
   "metadata": {},
   "outputs": [],
   "source": [
    "import warnings\n",
    "import xgboost as xgb\n",
    "import tensorflow as tf\n",
    "from sklearn import model_selection, linear_model, metrics, preprocessing\n",
    "from itertools import product"
   ]
  },
  {
   "cell_type": "code",
   "execution_count": 228,
   "metadata": {},
   "outputs": [],
   "source": [
    "feature_names = load('dumps/feature_names.joblib')"
   ]
  },
  {
   "cell_type": "code",
   "execution_count": 229,
   "metadata": {},
   "outputs": [],
   "source": [
    "train_data = np.load('samples/train_data.npy')\n",
    "test_data = np.load('samples/test_data.npy')"
   ]
  },
  {
   "cell_type": "markdown",
   "metadata": {},
   "source": [
    "### 5.4.1. Ridge."
   ]
  },
  {
   "cell_type": "code",
   "execution_count": 173,
   "metadata": {},
   "outputs": [],
   "source": [
    "ridge_params = {'alpha': [0.01, 0.1, 0.5, 1]}\n",
    "params = list(product(ridge_params['alpha']))"
   ]
  },
  {
   "cell_type": "code",
   "execution_count": 174,
   "metadata": {},
   "outputs": [
    {
     "name": "stdout",
     "output_type": "stream",
     "text": [
      "1/4 22:32\n",
      "2/4 22:32\n",
      "3/4 22:32\n",
      "4/4 22:32\n",
      "Подобранные параметры - alpha = 1\n",
      "Средняя ошибка - 35.033\n"
     ]
    }
   ],
   "source": [
    "warnings.filterwarnings('ignore')\n",
    "best_ridge_model = None\n",
    "best_ridge_cv = None\n",
    "best_ridge_score = float('inf')\n",
    "best_ridge_params = None\n",
    "for j in range(len(params)):\n",
    "    print('{}/{}'.format(j+1, len(params)), datetime.datetime.now().strftime('%H:%M'))\n",
    "    param = params[j]\n",
    "    alpha = param[0]\n",
    "    ridge_cv = []\n",
    "    ridge_model = linear_model.Ridge(alpha=alpha) \n",
    "    for i in range(1, 7):\n",
    "        train_labels = np.load('samples/train_labels_{}.npy'.format(i))\n",
    "        test_labels = np.load('samples/test_labels_{}.npy'.format(i))\n",
    "        \n",
    "        ridge_model.fit(train_data, train_labels)\n",
    "        pred = ridge_model.predict(test_data)\n",
    "        err = metrics.mean_absolute_error(test_labels, pred)\n",
    "        ridge_cv.append(err)\n",
    "    ridge_cv = np.array(ridge_cv)\n",
    "    ridge_score = ridge_cv.mean()\n",
    "    if ridge_score < best_ridge_score:\n",
    "        best_ridge_score = ridge_score\n",
    "        best_ridge_model = ridge_model\n",
    "        best_ridge_cv = ridge_cv\n",
    "        best_ridge_params = param\n",
    "dump(best_ridge_model, 'dumps/best_ridge_model.joblib') \n",
    "dump(best_ridge_cv, 'dumps/best_ridge_cv.joblib')\n",
    "dump(best_ridge_params, 'dumps/best_ridge_params.joblib')\n",
    "print('Подобранные параметры - alpha = {}'.format(best_ridge_params[0]))\n",
    "print('Средняя ошибка - {:.3f}'.format(best_ridge_score))\n",
    "warnings.filterwarnings('default')"
   ]
  },
  {
   "cell_type": "markdown",
   "metadata": {},
   "source": [
    "### 5.4.2. Lasso."
   ]
  },
  {
   "cell_type": "code",
   "execution_count": 175,
   "metadata": {},
   "outputs": [],
   "source": [
    "lasso_params = {'alpha': [0.01, 0.1, 0.5, 1]}\n",
    "params = list(product(lasso_params['alpha']))"
   ]
  },
  {
   "cell_type": "code",
   "execution_count": 176,
   "metadata": {},
   "outputs": [
    {
     "name": "stdout",
     "output_type": "stream",
     "text": [
      "1/4 22:3334.97761376928216\n",
      "2/4 22:5134.53659694043055\n",
      "3/4 23:0733.76674162560877\n",
      "4/4 23:2133.369753452084986\n",
      "Подобранные параметры - alpha = 1\n",
      "Средняя ошибка - 33.370\n"
     ]
    }
   ],
   "source": [
    "warnings.filterwarnings('ignore')\n",
    "best_lasso_model = None\n",
    "best_lasso_cv = None\n",
    "best_lasso_score = float('inf')\n",
    "best_lasso_params = None\n",
    "for j in range(len(params)):\n",
    "    print('{}/{}'.format(j+1, len(params)), datetime.datetime.now().strftime('%H:%M'), end='')\n",
    "    param = params[j]\n",
    "    alpha = param[0]\n",
    "    lasso_cv = []\n",
    "    lasso_model = linear_model.Lasso(alpha=alpha) \n",
    "    for i in range(1, 7):\n",
    "        train_labels = np.load('samples/train_labels_{}.npy'.format(i))\n",
    "        test_labels = np.load('samples/test_labels_{}.npy'.format(i))\n",
    "        \n",
    "        lasso_model.fit(train_data, train_labels)\n",
    "        pred = lasso_model.predict(test_data)\n",
    "        err = metrics.mean_absolute_error(test_labels, pred)\n",
    "        lasso_cv.append(err)\n",
    "    lasso_cv = np.array(lasso_cv)\n",
    "    lasso_score = lasso_cv.mean()\n",
    "    print(lasso_score)\n",
    "    if lasso_score < best_lasso_score:\n",
    "        best_lasso_score = lasso_score\n",
    "        best_lasso_model = lasso_model\n",
    "        best_lasso_cv = lasso_cv\n",
    "        best_lasso_params = param\n",
    "dump(best_lasso_model, 'dumps/best_lasso_model.joblib') \n",
    "dump(best_lasso_cv, 'dumps/best_lasso_cv.joblib')\n",
    "dump(best_lasso_params, 'dumps/best_lasso_params.joblib')\n",
    "print('Подобранные параметры - alpha = {}'.format(best_lasso_params[0]))\n",
    "print('Средняя ошибка - {:.3f}'.format(best_lasso_score))\n",
    "warnings.filterwarnings('default')"
   ]
  },
  {
   "cell_type": "markdown",
   "metadata": {},
   "source": [
    "### 5.4.3. XGB."
   ]
  },
  {
   "cell_type": "code",
   "execution_count": 230,
   "metadata": {},
   "outputs": [],
   "source": [
    "xgb_params = {'learning_rate': [0.1, 1], 'n_estimators': [75, 100], \n",
    "              'reg_alpha': [0.01, 0.1], 'reg_lambda': [0.01, 0.1]}\n",
    "params = list(product(xgb_params['learning_rate'], xgb_params['n_estimators'], \n",
    "                      xgb_params['reg_alpha'], xgb_params['reg_lambda']))"
   ]
  },
  {
   "cell_type": "code",
   "execution_count": 231,
   "metadata": {
    "scrolled": true
   },
   "outputs": [
    {
     "name": "stdout",
     "output_type": "stream",
     "text": [
      "1/16 01:31...[01:31:37] WARNING: /workspace/src/objective/regression_obj.cu:152: reg:linear is now deprecated in favor of reg:squarederror.\n",
      "[01:33:36] WARNING: /workspace/src/objective/regression_obj.cu:152: reg:linear is now deprecated in favor of reg:squarederror.\n",
      "[01:35:31] WARNING: /workspace/src/objective/regression_obj.cu:152: reg:linear is now deprecated in favor of reg:squarederror.\n",
      "[01:37:33] WARNING: /workspace/src/objective/regression_obj.cu:152: reg:linear is now deprecated in favor of reg:squarederror.\n",
      "[01:39:25] WARNING: /workspace/src/objective/regression_obj.cu:152: reg:linear is now deprecated in favor of reg:squarederror.\n",
      "[01:41:26] WARNING: /workspace/src/objective/regression_obj.cu:152: reg:linear is now deprecated in favor of reg:squarederror.\n",
      "28.66622495375381\n",
      "2/16 01:43...[01:43:22] WARNING: /workspace/src/objective/regression_obj.cu:152: reg:linear is now deprecated in favor of reg:squarederror.\n",
      "[01:45:15] WARNING: /workspace/src/objective/regression_obj.cu:152: reg:linear is now deprecated in favor of reg:squarederror.\n",
      "[01:47:06] WARNING: /workspace/src/objective/regression_obj.cu:152: reg:linear is now deprecated in favor of reg:squarederror.\n",
      "[01:49:07] WARNING: /workspace/src/objective/regression_obj.cu:152: reg:linear is now deprecated in favor of reg:squarederror.\n",
      "[01:51:07] WARNING: /workspace/src/objective/regression_obj.cu:152: reg:linear is now deprecated in favor of reg:squarederror.\n",
      "[01:53:06] WARNING: /workspace/src/objective/regression_obj.cu:152: reg:linear is now deprecated in favor of reg:squarederror.\n",
      "28.66622528408028\n",
      "3/16 01:55...[01:55:06] WARNING: /workspace/src/objective/regression_obj.cu:152: reg:linear is now deprecated in favor of reg:squarederror.\n",
      "[01:57:17] WARNING: /workspace/src/objective/regression_obj.cu:152: reg:linear is now deprecated in favor of reg:squarederror.\n",
      "[01:59:12] WARNING: /workspace/src/objective/regression_obj.cu:152: reg:linear is now deprecated in favor of reg:squarederror.\n",
      "[02:01:14] WARNING: /workspace/src/objective/regression_obj.cu:152: reg:linear is now deprecated in favor of reg:squarederror.\n",
      "[02:03:08] WARNING: /workspace/src/objective/regression_obj.cu:152: reg:linear is now deprecated in favor of reg:squarederror.\n",
      "[02:04:56] WARNING: /workspace/src/objective/regression_obj.cu:152: reg:linear is now deprecated in favor of reg:squarederror.\n",
      "28.636238654130278\n",
      "4/16 02:06...[02:06:51] WARNING: /workspace/src/objective/regression_obj.cu:152: reg:linear is now deprecated in favor of reg:squarederror.\n",
      "[02:08:47] WARNING: /workspace/src/objective/regression_obj.cu:152: reg:linear is now deprecated in favor of reg:squarederror.\n",
      "[02:10:41] WARNING: /workspace/src/objective/regression_obj.cu:152: reg:linear is now deprecated in favor of reg:squarederror.\n",
      "[02:12:35] WARNING: /workspace/src/objective/regression_obj.cu:152: reg:linear is now deprecated in favor of reg:squarederror.\n",
      "[02:14:36] WARNING: /workspace/src/objective/regression_obj.cu:152: reg:linear is now deprecated in favor of reg:squarederror.\n",
      "[02:16:35] WARNING: /workspace/src/objective/regression_obj.cu:152: reg:linear is now deprecated in favor of reg:squarederror.\n",
      "28.63623890252606\n",
      "5/16 02:18...[02:18:21] WARNING: /workspace/src/objective/regression_obj.cu:152: reg:linear is now deprecated in favor of reg:squarederror.\n",
      "[02:20:50] WARNING: /workspace/src/objective/regression_obj.cu:152: reg:linear is now deprecated in favor of reg:squarederror.\n",
      "[02:23:21] WARNING: /workspace/src/objective/regression_obj.cu:152: reg:linear is now deprecated in favor of reg:squarederror.\n",
      "[02:25:48] WARNING: /workspace/src/objective/regression_obj.cu:152: reg:linear is now deprecated in favor of reg:squarederror.\n",
      "[02:28:21] WARNING: /workspace/src/objective/regression_obj.cu:152: reg:linear is now deprecated in favor of reg:squarederror.\n",
      "[02:30:59] WARNING: /workspace/src/objective/regression_obj.cu:152: reg:linear is now deprecated in favor of reg:squarederror.\n",
      "27.8667757332483\n",
      "6/16 02:33...[02:33:37] WARNING: /workspace/src/objective/regression_obj.cu:152: reg:linear is now deprecated in favor of reg:squarederror.\n",
      "[02:36:10] WARNING: /workspace/src/objective/regression_obj.cu:152: reg:linear is now deprecated in favor of reg:squarederror.\n",
      "[02:38:35] WARNING: /workspace/src/objective/regression_obj.cu:152: reg:linear is now deprecated in favor of reg:squarederror.\n",
      "[02:41:03] WARNING: /workspace/src/objective/regression_obj.cu:152: reg:linear is now deprecated in favor of reg:squarederror.\n",
      "[02:43:32] WARNING: /workspace/src/objective/regression_obj.cu:152: reg:linear is now deprecated in favor of reg:squarederror.\n",
      "[02:46:00] WARNING: /workspace/src/objective/regression_obj.cu:152: reg:linear is now deprecated in favor of reg:squarederror.\n",
      "27.866776067831342\n",
      "7/16 02:48...[02:48:26] WARNING: /workspace/src/objective/regression_obj.cu:152: reg:linear is now deprecated in favor of reg:squarederror.\n",
      "[02:51:05] WARNING: /workspace/src/objective/regression_obj.cu:152: reg:linear is now deprecated in favor of reg:squarederror.\n",
      "[02:53:35] WARNING: /workspace/src/objective/regression_obj.cu:152: reg:linear is now deprecated in favor of reg:squarederror.\n",
      "[02:56:08] WARNING: /workspace/src/objective/regression_obj.cu:152: reg:linear is now deprecated in favor of reg:squarederror.\n",
      "[02:58:43] WARNING: /workspace/src/objective/regression_obj.cu:152: reg:linear is now deprecated in favor of reg:squarederror.\n",
      "[03:01:12] WARNING: /workspace/src/objective/regression_obj.cu:152: reg:linear is now deprecated in favor of reg:squarederror.\n",
      "27.857903419163822\n",
      "8/16 03:03...[03:03:47] WARNING: /workspace/src/objective/regression_obj.cu:152: reg:linear is now deprecated in favor of reg:squarederror.\n",
      "[03:06:17] WARNING: /workspace/src/objective/regression_obj.cu:152: reg:linear is now deprecated in favor of reg:squarederror.\n",
      "[03:08:50] WARNING: /workspace/src/objective/regression_obj.cu:152: reg:linear is now deprecated in favor of reg:squarederror.\n",
      "[03:11:31] WARNING: /workspace/src/objective/regression_obj.cu:152: reg:linear is now deprecated in favor of reg:squarederror.\n",
      "[03:14:15] WARNING: /workspace/src/objective/regression_obj.cu:152: reg:linear is now deprecated in favor of reg:squarederror.\n",
      "[03:16:34] WARNING: /workspace/src/objective/regression_obj.cu:152: reg:linear is now deprecated in favor of reg:squarederror.\n",
      "27.85790378289551\n",
      "9/16 03:18...[03:19:01] WARNING: /workspace/src/objective/regression_obj.cu:152: reg:linear is now deprecated in favor of reg:squarederror.\n",
      "[03:20:54] WARNING: /workspace/src/objective/regression_obj.cu:152: reg:linear is now deprecated in favor of reg:squarederror.\n",
      "[03:22:49] WARNING: /workspace/src/objective/regression_obj.cu:152: reg:linear is now deprecated in favor of reg:squarederror.\n",
      "[03:24:39] WARNING: /workspace/src/objective/regression_obj.cu:152: reg:linear is now deprecated in favor of reg:squarederror.\n",
      "[03:26:34] WARNING: /workspace/src/objective/regression_obj.cu:152: reg:linear is now deprecated in favor of reg:squarederror.\n",
      "[03:28:27] WARNING: /workspace/src/objective/regression_obj.cu:152: reg:linear is now deprecated in favor of reg:squarederror.\n",
      "27.400320674318564\n",
      "10/16 03:30...[03:30:31] WARNING: /workspace/src/objective/regression_obj.cu:152: reg:linear is now deprecated in favor of reg:squarederror.\n",
      "[03:32:20] WARNING: /workspace/src/objective/regression_obj.cu:152: reg:linear is now deprecated in favor of reg:squarederror.\n",
      "[03:34:18] WARNING: /workspace/src/objective/regression_obj.cu:152: reg:linear is now deprecated in favor of reg:squarederror.\n",
      "[03:36:07] WARNING: /workspace/src/objective/regression_obj.cu:152: reg:linear is now deprecated in favor of reg:squarederror.\n",
      "[03:38:10] WARNING: /workspace/src/objective/regression_obj.cu:152: reg:linear is now deprecated in favor of reg:squarederror.\n",
      "[03:40:00] WARNING: /workspace/src/objective/regression_obj.cu:152: reg:linear is now deprecated in favor of reg:squarederror.\n",
      "27.400319822249752\n",
      "11/16 03:41...[03:41:56] WARNING: /workspace/src/objective/regression_obj.cu:152: reg:linear is now deprecated in favor of reg:squarederror.\n",
      "[03:43:51] WARNING: /workspace/src/objective/regression_obj.cu:152: reg:linear is now deprecated in favor of reg:squarederror.\n"
     ]
    },
    {
     "name": "stdout",
     "output_type": "stream",
     "text": [
      "[03:45:45] WARNING: /workspace/src/objective/regression_obj.cu:152: reg:linear is now deprecated in favor of reg:squarederror.\n",
      "[03:47:39] WARNING: /workspace/src/objective/regression_obj.cu:152: reg:linear is now deprecated in favor of reg:squarederror.\n",
      "[03:49:34] WARNING: /workspace/src/objective/regression_obj.cu:152: reg:linear is now deprecated in favor of reg:squarederror.\n",
      "[03:51:31] WARNING: /workspace/src/objective/regression_obj.cu:152: reg:linear is now deprecated in favor of reg:squarederror.\n",
      "27.38052276223488\n",
      "12/16 03:53...[03:53:20] WARNING: /workspace/src/objective/regression_obj.cu:152: reg:linear is now deprecated in favor of reg:squarederror.\n",
      "[03:55:16] WARNING: /workspace/src/objective/regression_obj.cu:152: reg:linear is now deprecated in favor of reg:squarederror.\n",
      "[03:57:09] WARNING: /workspace/src/objective/regression_obj.cu:152: reg:linear is now deprecated in favor of reg:squarederror.\n",
      "[03:59:01] WARNING: /workspace/src/objective/regression_obj.cu:152: reg:linear is now deprecated in favor of reg:squarederror.\n",
      "[04:00:59] WARNING: /workspace/src/objective/regression_obj.cu:152: reg:linear is now deprecated in favor of reg:squarederror.\n",
      "[04:02:48] WARNING: /workspace/src/objective/regression_obj.cu:152: reg:linear is now deprecated in favor of reg:squarederror.\n",
      "27.38052192463495\n",
      "13/16 04:04...[04:04:50] WARNING: /workspace/src/objective/regression_obj.cu:152: reg:linear is now deprecated in favor of reg:squarederror.\n",
      "[04:07:20] WARNING: /workspace/src/objective/regression_obj.cu:152: reg:linear is now deprecated in favor of reg:squarederror.\n",
      "[04:09:46] WARNING: /workspace/src/objective/regression_obj.cu:152: reg:linear is now deprecated in favor of reg:squarederror.\n",
      "[04:12:20] WARNING: /workspace/src/objective/regression_obj.cu:152: reg:linear is now deprecated in favor of reg:squarederror.\n",
      "[04:14:48] WARNING: /workspace/src/objective/regression_obj.cu:152: reg:linear is now deprecated in favor of reg:squarederror.\n",
      "[04:17:23] WARNING: /workspace/src/objective/regression_obj.cu:152: reg:linear is now deprecated in favor of reg:squarederror.\n",
      "26.59140335798773\n",
      "14/16 04:19...[04:19:51] WARNING: /workspace/src/objective/regression_obj.cu:152: reg:linear is now deprecated in favor of reg:squarederror.\n",
      "[04:22:18] WARNING: /workspace/src/objective/regression_obj.cu:152: reg:linear is now deprecated in favor of reg:squarederror.\n",
      "[04:24:44] WARNING: /workspace/src/objective/regression_obj.cu:152: reg:linear is now deprecated in favor of reg:squarederror.\n",
      "[04:27:11] WARNING: /workspace/src/objective/regression_obj.cu:152: reg:linear is now deprecated in favor of reg:squarederror.\n",
      "[04:29:36] WARNING: /workspace/src/objective/regression_obj.cu:152: reg:linear is now deprecated in favor of reg:squarederror.\n",
      "[04:32:06] WARNING: /workspace/src/objective/regression_obj.cu:152: reg:linear is now deprecated in favor of reg:squarederror.\n",
      "26.588188454409806\n",
      "15/16 04:34...[04:34:31] WARNING: /workspace/src/objective/regression_obj.cu:152: reg:linear is now deprecated in favor of reg:squarederror.\n",
      "[04:37:01] WARNING: /workspace/src/objective/regression_obj.cu:152: reg:linear is now deprecated in favor of reg:squarederror.\n",
      "[04:39:29] WARNING: /workspace/src/objective/regression_obj.cu:152: reg:linear is now deprecated in favor of reg:squarederror.\n",
      "[04:42:03] WARNING: /workspace/src/objective/regression_obj.cu:152: reg:linear is now deprecated in favor of reg:squarederror.\n",
      "[04:44:29] WARNING: /workspace/src/objective/regression_obj.cu:152: reg:linear is now deprecated in favor of reg:squarederror.\n",
      "[04:46:55] WARNING: /workspace/src/objective/regression_obj.cu:152: reg:linear is now deprecated in favor of reg:squarederror.\n",
      "26.609991907791525\n",
      "16/16 04:49...[04:49:21] WARNING: /workspace/src/objective/regression_obj.cu:152: reg:linear is now deprecated in favor of reg:squarederror.\n",
      "[04:51:54] WARNING: /workspace/src/objective/regression_obj.cu:152: reg:linear is now deprecated in favor of reg:squarederror.\n",
      "[04:54:20] WARNING: /workspace/src/objective/regression_obj.cu:152: reg:linear is now deprecated in favor of reg:squarederror.\n",
      "[04:56:55] WARNING: /workspace/src/objective/regression_obj.cu:152: reg:linear is now deprecated in favor of reg:squarederror.\n",
      "[04:59:17] WARNING: /workspace/src/objective/regression_obj.cu:152: reg:linear is now deprecated in favor of reg:squarederror.\n",
      "[05:01:58] WARNING: /workspace/src/objective/regression_obj.cu:152: reg:linear is now deprecated in favor of reg:squarederror.\n",
      "26.609990929806866\n",
      "Подобранные параметры - learning_rate=1, n_estimators=100, reg_alpha=0.01, reg_lambda=0.1\n",
      "Средняя ошибка - 26.588\n"
     ]
    }
   ],
   "source": [
    "warnings.filterwarnings('ignore')\n",
    "best_xgb_cv = None\n",
    "best_xgb_score = float('inf')\n",
    "best_xgb_params = None\n",
    "for j in range(len(params)):\n",
    "    print('{}/{}'.format(j+1, len(params)), datetime.datetime.now().strftime('%H:%M'), end='...')\n",
    "    param = params[j]\n",
    "    xgb_cv = []\n",
    "    xgb_model = xgb.XGBRegressor(learning_rate=param[0], n_estimators=param[1], \n",
    "                                    reg_lambda=param[2], reg_alpha=param[3], n_jobs=-1)  \n",
    "    for i in range(1, 7):\n",
    "        train_labels = np.load('samples/train_labels_{}.npy'.format(i))\n",
    "        test_labels = np.load('samples/test_labels_{}.npy'.format(i))\n",
    "        \n",
    "        xgb_model.fit(train_data, train_labels)\n",
    "        pred = xgb_model.predict(test_data)\n",
    "        err = metrics.mean_absolute_error(test_labels, pred)\n",
    "        xgb_cv.append(err)\n",
    "    xgb_cv = np.array(xgb_cv)\n",
    "    xgb_score = xgb_cv.mean()\n",
    "    print(xgb_score)\n",
    "    if xgb_score < best_xgb_score:\n",
    "        best_xgb_score = xgb_score\n",
    "        best_xgb_cv = xgb_cv\n",
    "        best_xgb_params = param\n",
    "dump(best_xgb_cv, 'dumps/best_xgb_cv.joblib')\n",
    "dump(best_xgb_params, 'dumps/best_xgb_params.joblib')\n",
    "print('Подобранные параметры - learning_rate={}, n_estimators={}, reg_alpha={}, reg_lambda={}'.format(best_xgb_params[0], \n",
    "                                                                                                      best_xgb_params[1], \n",
    "                                                                                                      best_xgb_params[2], \n",
    "                                                                                                      best_xgb_params[3]))\n",
    "print('Средняя ошибка - {:.3f}'.format(best_xgb_score))\n",
    "warnings.filterwarnings('default')"
   ]
  },
  {
   "cell_type": "code",
   "execution_count": 232,
   "metadata": {},
   "outputs": [
    {
     "name": "stdout",
     "output_type": "stream",
     "text": [
      "Подобранные параметры - learning_rate=1, n_estimators=100, reg_alpha=0.01, reg_lambda=0.1\n"
     ]
    }
   ],
   "source": [
    "best_xgb_params = load('dumps/best_xgb_params.joblib')\n",
    "print('Подобранные параметры - learning_rate={}, n_estimators={}, reg_alpha={}, reg_lambda={}'.format(best_xgb_params[0], \n",
    "                                                                                                      best_xgb_params[1], \n",
    "                                                                                                      best_xgb_params[2], \n",
    "                                                                                                      best_xgb_params[3]))\n"
   ]
  },
  {
   "cell_type": "markdown",
   "metadata": {},
   "source": [
    "### 5.4.4. Нейросеть."
   ]
  },
  {
   "cell_type": "code",
   "execution_count": 233,
   "metadata": {},
   "outputs": [],
   "source": [
    "# Создание нейросети.\n",
    "def get_network(lr, l1, l2):\n",
    "    network = tf.keras.Sequential([tf.keras.layers.Dense(units=train_data.shape[1], \n",
    "                                                activation=tf.keras.activations.linear, \n",
    "                                                use_bias=False, \n",
    "                                                kernel_regularizer=tf.keras.regularizers.l1_l2(l1=l1, l2=l2)), \n",
    "                          tf.keras.layers.Dense(units=1000, activation=tf.keras.activations.linear, \n",
    "                                                use_bias=False), \n",
    "                          tf.keras.layers.Dropout(0.2), \n",
    "                          tf.keras.layers.Dense(units=100, activation=tf.keras.activations.linear, \n",
    "                                                use_bias=False), \n",
    "                          tf.keras.layers.Dense(units=1, activation=tf.keras.activations.linear, \n",
    "                                                use_bias=False)]) \n",
    "    network.compile(optimizer=tf.keras.optimizers.Adam(lr=lr), \n",
    "                    loss='mean_absolute_error', \n",
    "                    metrics=['mae'], n_jobs=-1)\n",
    "    return network"
   ]
  },
  {
   "cell_type": "code",
   "execution_count": 234,
   "metadata": {},
   "outputs": [],
   "source": [
    "neural_params = {'lr': [0.001, 0.1], 'l1': [0.01, 0.1], 'l2': [0, 0.01]}\n",
    "params = list(product(neural_params['lr'], neural_params['l1'], neural_params['l2']))"
   ]
  },
  {
   "cell_type": "code",
   "execution_count": 235,
   "metadata": {},
   "outputs": [
    {
     "name": "stdout",
     "output_type": "stream",
     "text": [
      "1/8 05:04\n",
      "WARNING:tensorflow:From /home/artem/anaconda3/lib/python3.7/site-packages/tensorflow/python/ops/resource_variable_ops.py:435: colocate_with (from tensorflow.python.framework.ops) is deprecated and will be removed in a future version.\n",
      "Instructions for updating:\n",
      "Colocations handled automatically by placer.\n",
      "WARNING:tensorflow:From /home/artem/anaconda3/lib/python3.7/site-packages/tensorflow/python/keras/layers/core.py:143: calling dropout (from tensorflow.python.ops.nn_ops) with keep_prob is deprecated and will be removed in a future version.\n",
      "Instructions for updating:\n",
      "Please use `rate` instead of `keep_prob`. Rate should be set to `rate = 1 - keep_prob`.\n",
      "WARNING:tensorflow:From /home/artem/anaconda3/lib/python3.7/site-packages/tensorflow/python/ops/math_ops.py:3066: to_int32 (from tensorflow.python.ops.math_ops) is deprecated and will be removed in a future version.\n",
      "Instructions for updating:\n",
      "Use tf.cast instead.\n",
      "1715436/1715436 [==============================] - 220s 128us/sample - loss: 56.3271 - mean_absolute_error: 55.2256\n",
      "1715436/1715436 [==============================] - 223s 130us/sample - loss: 57.7595 - mean_absolute_error: 56.6772\n",
      "1715436/1715436 [==============================] - 281s 164us/sample - loss: 62.6023 - mean_absolute_error: 61.5091\n",
      "1715436/1715436 [==============================] - 272s 159us/sample - loss: 61.6042 - mean_absolute_error: 60.6612\n",
      "1715436/1715436 [==============================] - 227s 132us/sample - loss: 61.4815 - mean_absolute_error: 60.5806\n",
      "1715436/1715436 [==============================] - 242s 141us/sample - loss: 60.9175 - mean_absolute_error: 60.0868\n",
      "31.634185556901144\n",
      "2/8 05:29\n",
      "1715436/1715436 [==============================] - 311s 181us/sample - loss: 48.3224 - mean_absolute_error: 47.1035\n",
      "1715436/1715436 [==============================] - 320s 186us/sample - loss: 60.8461 - mean_absolute_error: 59.6274\n",
      "1715436/1715436 [==============================] - 312s 182us/sample - loss: 57.9119 - mean_absolute_error: 56.7579\n",
      "1715436/1715436 [==============================] - 313s 183us/sample - loss: 61.8947 - mean_absolute_error: 60.7329\n",
      "1715436/1715436 [==============================] - 315s 184us/sample - loss: 60.6162 - mean_absolute_error: 59.6039\n",
      "1715436/1715436 [==============================] - 321s 187us/sample - loss: 62.3393 - mean_absolute_error: 61.3698\n",
      "34.37440793279436\n",
      "3/8 06:01\n",
      "1715436/1715436 [==============================] - 323s 188us/sample - loss: 50.5759 - mean_absolute_error: 47.6740\n",
      "1715436/1715436 [==============================] - 324s 189us/sample - loss: 60.4250 - mean_absolute_error: 57.2244\n",
      "1715436/1715436 [==============================] - 330s 192us/sample - loss: 59.0027 - mean_absolute_error: 55.8213\n",
      "1715436/1715436 [==============================] - 329s 192us/sample - loss: 66.0871 - mean_absolute_error: 62.9248\n",
      "1715436/1715436 [==============================] - 326s 190us/sample - loss: 61.8315 - mean_absolute_error: 59.2346\n",
      "1715436/1715436 [==============================] - 332s 194us/sample - loss: 58.5974 - mean_absolute_error: 55.9252\n",
      "33.800558692643676\n",
      "4/8 06:34\n",
      "1715436/1715436 [==============================] - 342s 199us/sample - loss: 51.9900 - mean_absolute_error: 48.6817\n",
      "1715436/1715436 [==============================] - 346s 202us/sample - loss: 60.6566 - mean_absolute_error: 57.4174\n",
      "1715436/1715436 [==============================] - 342s 199us/sample - loss: 65.5983 - mean_absolute_error: 62.4094\n",
      "1715436/1715436 [==============================] - 355s 207us/sample - loss: 59.8352 - mean_absolute_error: 57.1875\n",
      "1715436/1715436 [==============================] - 367s 214us/sample - loss: 61.6526 - mean_absolute_error: 58.8620\n",
      "1715436/1715436 [==============================] - 366s 213us/sample - loss: 63.4192 - mean_absolute_error: 60.1405\n",
      "34.89737664629428\n",
      "5/8 07:10\n",
      "1715436/1715436 [==============================] - 365s 213us/sample - loss: 31808254.8569 - mean_absolute_error: 31800830.0000\n",
      "1715436/1715436 [==============================] - 356s 208us/sample - loss: 41827686.0363 - mean_absolute_error: 41823136.0000\n",
      "1715436/1715436 [==============================] - 358s 209us/sample - loss: 40251269.2314 - mean_absolute_error: 40246956.0000\n",
      "1715436/1715436 [==============================] - 361s 210us/sample - loss: 38391449.8733 - mean_absolute_error: 38384792.0000\n",
      "1715436/1715436 [==============================] - 362s 211us/sample - loss: 55796508.7376 - mean_absolute_error: 55786012.0000\n",
      "1715436/1715436 [==============================] - 364s 212us/sample - loss: 58723234.7912 - mean_absolute_error: 58717956.0000\n",
      "19050.379577281725\n",
      "6/8 07:47\n",
      "1715436/1715436 [==============================] - 369s 215us/sample - loss: 58546863.4521 - mean_absolute_error: 58534928.0000\n",
      "1715436/1715436 [==============================] - 374s 218us/sample - loss: 47939347.9029 - mean_absolute_error: 47928012.0000\n",
      "1715436/1715436 [==============================] - 374s 218us/sample - loss: 44288730.0849 - mean_absolute_error: 44276168.0000\n",
      "1715436/1715436 [==============================] - 380s 221us/sample - loss: 67709636.7790 - mean_absolute_error: 67692472.0000\n",
      "1715436/1715436 [==============================] - 385s 225us/sample - loss: 33086019.9779 - mean_absolute_error: 33078880.0000\n",
      "1715436/1715436 [==============================] - 395s 230us/sample - loss: 30681987.0773 - mean_absolute_error: 30676788.0000\n",
      "40536.751865922946\n",
      "7/8 08:27\n",
      "1715436/1715436 [==============================] - 390s 227us/sample - loss: 33421974.4341 - mean_absolute_error: 33415084.0000\n",
      "1715436/1715436 [==============================] - 392s 229us/sample - loss: 44895503.1440 - mean_absolute_error: 44888968.0000\n",
      "1715436/1715436 [==============================] - 398s 232us/sample - loss: 55286564.0088 - mean_absolute_error: 55277892.0000\n",
      "1715436/1715436 [==============================] - 401s 234us/sample - loss: 67901674.7842 - mean_absolute_error: 67896984.0000\n",
      "1715436/1715436 [==============================] - 403s 235us/sample - loss: 65016792.7400 - mean_absolute_error: 65010300.0000\n",
      "1715436/1715436 [==============================] - 408s 238us/sample - loss: 37288635.1345 - mean_absolute_error: 37281652.0000\n",
      "197532.16160078612\n",
      "8/8 09:08\n",
      "1715436/1715436 [==============================] - 408s 238us/sample - loss: 45252653.3431 - mean_absolute_error: 45244092.0000\n",
      "1715436/1715436 [==============================] - 419s 244us/sample - loss: 69968127.1310 - mean_absolute_error: 69955432.0000\n",
      "1715436/1715436 [==============================] - 417s 243us/sample - loss: 49637653.3992 - mean_absolute_error: 49626496.0000\n",
      "1715436/1715436 [==============================] - 415s 242us/sample - loss: 52495364.2149 - mean_absolute_error: 52486676.0000\n",
      "1715436/1715436 [==============================] - 418s 244us/sample - loss: 40030675.0479 - mean_absolute_error: 40026204.0000\n",
      "1715436/1715436 [==============================] - 423s 247us/sample - loss: 50126885.6283 - mean_absolute_error: 50113904.0000\n",
      "389224.5579852489\n",
      "Подобранные параметры - lr=0.1, l1=0.1, l2=0.01\n",
      "Средняя ошибка - 31.634\n"
     ]
    }
   ],
   "source": [
    "warnings.filterwarnings('ignore')\n",
    "best_neural_cv = None\n",
    "best_neural_score = float('inf')\n",
    "best_neural_params = None\n",
    "for j in range(len(params)):\n",
    "    print('{}/{}'.format(j+1, len(params)), datetime.datetime.now().strftime('%H:%M'))\n",
    "    param = params[j]\n",
    "    neural_cv = []\n",
    "     \n",
    "    for i in range(1, 7):\n",
    "        train_labels = np.load('samples/train_labels_{}.npy'.format(i))\n",
    "        test_labels = np.load('samples/test_labels_{}.npy'.format(i))\n",
    "        neural_model = get_network(param[0], param[1], param[2])\n",
    "        neural_model.fit(train_data, train_labels)\n",
    "        pred = neural_model.predict(test_data)\n",
    "        err = metrics.mean_absolute_error(test_labels, pred)\n",
    "        neural_cv.append(err)\n",
    "    neural_cv = np.array(neural_cv)\n",
    "    neural_score = neural_cv.mean()\n",
    "    print(neural_score)\n",
    "    if neural_score < best_neural_score:\n",
    "        best_neural_score = neural_score\n",
    "        best_neural_cv = neural_cv\n",
    "        best_neural_params = param\n",
    "dump(best_neural_cv, 'dumps/best_neural_cv.joblib')\n",
    "dump(best_neural_params, 'dumps/best_neural_params.joblib')\n",
    "print('Подобранные параметры - lr={}, l1={}, l2={}'.format(param[0], param[1], param[2]))\n",
    "print('Средняя ошибка - {:.3f}'.format(best_neural_score))\n",
    "warnings.filterwarnings('default')"
   ]
  },
  {
   "cell_type": "markdown",
   "metadata": {},
   "source": [
    "### 5.4.5. Выбор модели."
   ]
  },
  {
   "cell_type": "code",
   "execution_count": 237,
   "metadata": {},
   "outputs": [
    {
     "data": {
      "image/png": "[encoded data removed]",
      "text/plain": [
       "<Figure size 864x288 with 2 Axes>"
      ]
     },
     "metadata": {
      "needs_background": "light"
     },
     "output_type": "display_data"
    }
   ],
   "source": [
    "# Cross-val.\n",
    "fig, ax = plt.subplots(1, 2, figsize=(12, 4))\n",
    "ax[0].plot(load('dumps/best_ridge_cv.joblib'), color='b', label='Ridge')\n",
    "ax[0].plot(load('dumps/best_lasso_cv.joblib'), color='r', label='Lasso')\n",
    "ax[0].plot(load('dumps/best_xgb_cv.joblib'), color='g', label='XGB')\n",
    "ax[0].plot(load('dumps/best_neural_cv.joblib'), color='orange', label='Neural network')\n",
    "ax[0].grid()\n",
    "ax[0].set_xticks(np.arange(6), ['+{}'.format(i) for i in range(1, 7)])\n",
    "ax[0].legend()\n",
    "ax[0].set_title('Тест на отложенной выборке')\n",
    "\n",
    "# MAE.\n",
    "ax[1].bar(list(range(4)), \n",
    "          [load('dumps/best_ridge_cv.joblib').mean(),\n",
    "           load('dumps/best_lasso_cv.joblib').mean(),\n",
    "           load('dumps/best_xgb_cv.joblib').mean(),\n",
    "           load('dumps/best_neural_cv.joblib').mean()], \n",
    "          0.4, \n",
    "          color=['b', 'r', 'g', 'orange'], tick_label=['Ridge', 'Lasso', 'XGB', 'Neural network'])\n",
    "ax[1].set_title('MAE')\n",
    "plt.show()"
   ]
  },
  {
   "cell_type": "markdown",
   "metadata": {},
   "source": [
    "Принимаем xgboost."
   ]
  },
  {
   "cell_type": "markdown",
   "metadata": {},
   "source": [
    "## 5.5. Обучение модели, подсчет ошибки на май 2016г."
   ]
  },
  {
   "cell_type": "markdown",
   "metadata": {},
   "source": [
    "Для каждого конца истории от 2016.04.30 23:00 до 2016.05.31 17:00 построим прогноз на 6 часов вперёд и посчитаем ошибку прогноза по следующему функционалу: "
   ]
  },
  {
   "cell_type": "markdown",
   "metadata": {},
   "source": [
    "$$Q_{may}=\\frac{1}{R∗739∗6}\\sum_{r=1}^{R}\\sum_{T=2016.04.3023:00}^{2016.05.3117:00}\\sum_{i=1}^{6}∣\\widehat{y}^{r}_{T|T+i}−{y}^{r}_{T+i}| $$"
   ]
  },
  {
   "cell_type": "code",
   "execution_count": 243,
   "metadata": {},
   "outputs": [
    {
     "name": "stdout",
     "output_type": "stream",
     "text": [
      "Подобранные ранее параметры - learning_rate=1, n_estimators=100, reg_alpha=0.01, reg_lambda=0.1\n"
     ]
    }
   ],
   "source": [
    "best_xgb_params = load('dumps/best_xgb_params.joblib')\n",
    "print('Подобранные ранее параметры - learning_rate={}, n_estimators={}, reg_alpha={}, reg_lambda={}'.format(best_xgb_params[0], \n",
    "                                                                                                      best_xgb_params[1], \n",
    "                                                                                                      best_xgb_params[2], \n",
    "                                                                                                      best_xgb_params[3]))\n"
   ]
  },
  {
   "cell_type": "code",
   "execution_count": 245,
   "metadata": {},
   "outputs": [
    {
     "name": "stdout",
     "output_type": "stream",
     "text": [
      "[10:17:10] WARNING: /workspace/src/objective/regression_obj.cu:152: reg:linear is now deprecated in favor of reg:squarederror.\n",
      "[10:19:41] WARNING: /workspace/src/objective/regression_obj.cu:152: reg:linear is now deprecated in favor of reg:squarederror.\n",
      "[10:22:10] WARNING: /workspace/src/objective/regression_obj.cu:152: reg:linear is now deprecated in favor of reg:squarederror.\n",
      "[10:24:42] WARNING: /workspace/src/objective/regression_obj.cu:152: reg:linear is now deprecated in favor of reg:squarederror.\n",
      "[10:27:17] WARNING: /workspace/src/objective/regression_obj.cu:152: reg:linear is now deprecated in favor of reg:squarederror.\n",
      "[10:29:42] WARNING: /workspace/src/objective/regression_obj.cu:152: reg:linear is now deprecated in favor of reg:squarederror.\n",
      "Ошибка на майских данных - 26.588\n"
     ]
    }
   ],
   "source": [
    "warnings.filterwarnings('ignore')\n",
    "ERR = 0\n",
    "for i in range(1, 7):\n",
    "    train_labels = np.load('samples/train_labels_{}.npy'.format(i))\n",
    "    test_labels = np.load('samples/test_labels_{}.npy'.format(i))\n",
    "    \n",
    "    xgb_model = xgb.XGBRegressor(learning_rate=best_xgb_params[0], n_estimators=best_xgb_params[1], \n",
    "                             reg_lambda=best_xgb_params[2], reg_alpha=best_xgb_params[3], n_jobs=-1)  \n",
    "\n",
    "    \n",
    "    xgb_model.fit(train_data, train_labels)\n",
    "    pred = xgb_model.predict(test_data)\n",
    "    ERR += metrics.mean_absolute_error(test_labels, pred)\n",
    "    \n",
    "print('Ошибка на майских данных - {:.3f}'.format(ERR/6))\n",
    "warnings.filterwarnings('default')"
   ]
  },
  {
   "cell_type": "markdown",
   "metadata": {},
   "source": [
    "Результаты."
   ]
  },
  {
   "cell_type": "code",
   "execution_count": 248,
   "metadata": {},
   "outputs": [
    {
     "name": "stdout",
     "output_type": "stream",
     "text": [
      "Ошибка на майских данных - 26.588\n"
     ]
    }
   ],
   "source": [
    "print('Ошибка на майских данных - {:.3f}'.format(ERR/6))"
   ]
  },
  {
   "cell_type": "markdown",
   "metadata": {},
   "source": [
    "Ошибка уменьшилась по сравнению с моделью ARIMA. Ранее она составляла 30.594."
   ]
  },
  {
   "cell_type": "markdown",
   "metadata": {},
   "source": [
    "## 5.6.  Обучение на данных до мая, запись результатов предсказаний на июнь."
   ]
  },
  {
   "cell_type": "markdown",
   "metadata": {},
   "source": [
    "Обучим модель и сделаем прогнозы на июнь."
   ]
  },
  {
   "cell_type": "code",
   "execution_count": 250,
   "metadata": {},
   "outputs": [],
   "source": [
    "train_data = np.load('samples/train_data.npy')\n",
    "test_data = np.load('samples/test_data.npy')\n",
    "train_data = np.vstack((train_data, test_data))\n",
    "\n",
    "target_data = np.load('samples/target_data.npy')    "
   ]
  },
  {
   "cell_type": "code",
   "execution_count": 251,
   "metadata": {},
   "outputs": [
    {
     "name": "stdout",
     "output_type": "stream",
     "text": [
      "[10:33:41] WARNING: /workspace/src/objective/regression_obj.cu:152: reg:linear is now deprecated in favor of reg:squarederror.\n",
      "[10:36:56] WARNING: /workspace/src/objective/regression_obj.cu:152: reg:linear is now deprecated in favor of reg:squarederror.\n",
      "[10:40:30] WARNING: /workspace/src/objective/regression_obj.cu:152: reg:linear is now deprecated in favor of reg:squarederror.\n",
      "[10:43:52] WARNING: /workspace/src/objective/regression_obj.cu:152: reg:linear is now deprecated in favor of reg:squarederror.\n",
      "[10:47:11] WARNING: /workspace/src/objective/regression_obj.cu:152: reg:linear is now deprecated in favor of reg:squarederror.\n",
      "[10:50:31] WARNING: /workspace/src/objective/regression_obj.cu:152: reg:linear is now deprecated in favor of reg:squarederror.\n"
     ]
    }
   ],
   "source": [
    "best_xgb_params = load('dumps/best_xgb_params_may.joblib')\n",
    "ERR = 0\n",
    "out = 'id,y'\n",
    "for i in range(1, 7):\n",
    "    train_labels = np.load('samples/train_labels_{}.npy'.format(i))\n",
    "    test_labels = np.load('samples/test_labels_{}.npy'.format(i))\n",
    "    train_labels = np.hstack((train_labels, test_labels))\n",
    "    \n",
    "    target_labels = np.load('samples/target_labels_{}.npy'.format(i))\n",
    "    target_index = load('dumps/target_index_{}'.format(i))\n",
    "        \n",
    "    model = xgb.XGBRegressor(learning_rate=best_xgb_params[0], n_estimators=best_xgb_params[1], \n",
    "                             reg_lambda=best_xgb_params[2], reg_alpha=best_xgb_params[3], n_jobs=-1)  \n",
    "    model.fit(train_data, train_labels)\n",
    "    pred = model.predict(target_data).clip(min=0)\n",
    "    \n",
    "    for j in range(len(target_index)):\n",
    "        out += '\\n'\n",
    "        out += '{},{}'.format(target_index[j], pred[j])\n",
    "       \n",
    "    ERR += metrics.mean_absolute_error(target_labels, pred)\n",
    "\n",
    "with open('kaggle_xgb.csv', 'w') as f:\n",
    "    f.write(out)\n",
    "\n",
    "ERR /= 6"
   ]
  },
  {
   "cell_type": "code",
   "execution_count": 252,
   "metadata": {},
   "outputs": [
    {
     "data": {
      "text/plain": [
       "24.08523234090642"
      ]
     },
     "execution_count": 252,
     "metadata": {},
     "output_type": "execute_result"
    }
   ],
   "source": [
    "ERR"
   ]
  },
  {
   "cell_type": "markdown",
   "metadata": {},
   "source": [
    "## 5.7. Kaggle."
   ]
  },
  {
   "cell_type": "code",
   "execution_count": 253,
   "metadata": {},
   "outputs": [
    {
     "name": "stdout",
     "output_type": "stream",
     "text": [
      "Warning: Your Kaggle API key is readable by other users on this system! To fix this, you can run 'chmod 600 /home/artem/.kaggle/kaggle.json'\n",
      "Successfully submitted to Жёлтое такси"
     ]
    },
    {
     "name": "stderr",
     "output_type": "stream",
     "text": [
      "\r",
      "  0%|          | 0.00/15.9M [00:00<?, ?B/s]\r",
      " 54%|█████▍    | 8.61M/15.9M [00:00<00:00, 85.0MB/s]\r",
      " 69%|██████▉   | 11.0M/15.9M [00:01<00:00, 7.84MB/s]\r",
      "100%|██████████| 15.9M/15.9M [00:05<00:00, 2.93MB/s]\n"
     ]
    }
   ],
   "source": [
    "%%bash\n",
    "kaggle competitions submit -c yellowtaxi -f kaggle_xgb.csv -m xgb"
   ]
  },
  {
   "cell_type": "markdown",
   "metadata": {},
   "source": [
    "Ссылка на сабмишн."
   ]
  },
  {
   "cell_type": "markdown",
   "metadata": {},
   "source": [
    "https://www.kaggle.com/submissions/11547697/11547697.raw"
   ]
  },
  {
   "cell_type": "markdown",
   "metadata": {},
   "source": [
    "Ошибка составила 24.08523."
   ]
  }
 ],
 "metadata": {
  "kernelspec": {
   "display_name": "Python 3",
   "language": "python",
   "name": "python3"
  },
  "language_info": {
   "codemirror_mode": {
    "name": "ipython",
    "version": 3
   },
   "file_extension": ".py",
   "mimetype": "text/x-python",
   "name": "python",
   "nbconvert_exporter": "python",
   "pygments_lexer": "ipython3",
   "version": "3.7.3"
  }
 },
 "nbformat": 4,
 "nbformat_minor": 2
}
